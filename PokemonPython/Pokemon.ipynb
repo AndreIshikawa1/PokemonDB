{
 "cells": [
  {
   "cell_type": "code",
   "execution_count": 91,
   "metadata": {},
   "outputs": [
    {
     "data": {
      "text/html": [
       "<div>\n",
       "<style scoped>\n",
       "    .dataframe tbody tr th:only-of-type {\n",
       "        vertical-align: middle;\n",
       "    }\n",
       "\n",
       "    .dataframe tbody tr th {\n",
       "        vertical-align: top;\n",
       "    }\n",
       "\n",
       "    .dataframe thead th {\n",
       "        text-align: right;\n",
       "    }\n",
       "</style>\n",
       "<table border=\"1\" class=\"dataframe\">\n",
       "  <thead>\n",
       "    <tr style=\"text-align: right;\">\n",
       "      <th></th>\n",
       "      <th>#</th>\n",
       "      <th>Name</th>\n",
       "      <th>Type 1</th>\n",
       "      <th>Type 2</th>\n",
       "      <th>Total</th>\n",
       "      <th>HP</th>\n",
       "      <th>Attack</th>\n",
       "      <th>Defense</th>\n",
       "      <th>Sp. Atk</th>\n",
       "      <th>Sp. Def</th>\n",
       "      <th>Speed</th>\n",
       "      <th>Generation</th>\n",
       "      <th>Legendary</th>\n",
       "    </tr>\n",
       "  </thead>\n",
       "  <tbody>\n",
       "    <tr>\n",
       "      <th>0</th>\n",
       "      <td>1</td>\n",
       "      <td>Bulbasaur</td>\n",
       "      <td>Grass</td>\n",
       "      <td>Poison</td>\n",
       "      <td>318</td>\n",
       "      <td>45</td>\n",
       "      <td>49</td>\n",
       "      <td>49</td>\n",
       "      <td>65</td>\n",
       "      <td>65</td>\n",
       "      <td>45</td>\n",
       "      <td>1</td>\n",
       "      <td>False</td>\n",
       "    </tr>\n",
       "    <tr>\n",
       "      <th>1</th>\n",
       "      <td>2</td>\n",
       "      <td>Ivysaur</td>\n",
       "      <td>Grass</td>\n",
       "      <td>Poison</td>\n",
       "      <td>405</td>\n",
       "      <td>60</td>\n",
       "      <td>62</td>\n",
       "      <td>63</td>\n",
       "      <td>80</td>\n",
       "      <td>80</td>\n",
       "      <td>60</td>\n",
       "      <td>1</td>\n",
       "      <td>False</td>\n",
       "    </tr>\n",
       "    <tr>\n",
       "      <th>2</th>\n",
       "      <td>3</td>\n",
       "      <td>Venusaur</td>\n",
       "      <td>Grass</td>\n",
       "      <td>Poison</td>\n",
       "      <td>525</td>\n",
       "      <td>80</td>\n",
       "      <td>82</td>\n",
       "      <td>83</td>\n",
       "      <td>100</td>\n",
       "      <td>100</td>\n",
       "      <td>80</td>\n",
       "      <td>1</td>\n",
       "      <td>False</td>\n",
       "    </tr>\n",
       "    <tr>\n",
       "      <th>3</th>\n",
       "      <td>3</td>\n",
       "      <td>VenusaurMega Venusaur</td>\n",
       "      <td>Grass</td>\n",
       "      <td>Poison</td>\n",
       "      <td>625</td>\n",
       "      <td>80</td>\n",
       "      <td>100</td>\n",
       "      <td>123</td>\n",
       "      <td>122</td>\n",
       "      <td>120</td>\n",
       "      <td>80</td>\n",
       "      <td>1</td>\n",
       "      <td>False</td>\n",
       "    </tr>\n",
       "    <tr>\n",
       "      <th>4</th>\n",
       "      <td>4</td>\n",
       "      <td>Charmander</td>\n",
       "      <td>Fire</td>\n",
       "      <td>NaN</td>\n",
       "      <td>309</td>\n",
       "      <td>39</td>\n",
       "      <td>52</td>\n",
       "      <td>43</td>\n",
       "      <td>60</td>\n",
       "      <td>50</td>\n",
       "      <td>65</td>\n",
       "      <td>1</td>\n",
       "      <td>False</td>\n",
       "    </tr>\n",
       "  </tbody>\n",
       "</table>\n",
       "</div>"
      ],
      "text/plain": [
       "   #                   Name Type 1  Type 2  Total  HP  Attack  Defense  \\\n",
       "0  1              Bulbasaur  Grass  Poison    318  45      49       49   \n",
       "1  2                Ivysaur  Grass  Poison    405  60      62       63   \n",
       "2  3               Venusaur  Grass  Poison    525  80      82       83   \n",
       "3  3  VenusaurMega Venusaur  Grass  Poison    625  80     100      123   \n",
       "4  4             Charmander   Fire     NaN    309  39      52       43   \n",
       "\n",
       "   Sp. Atk  Sp. Def  Speed  Generation  Legendary  \n",
       "0       65       65     45           1      False  \n",
       "1       80       80     60           1      False  \n",
       "2      100      100     80           1      False  \n",
       "3      122      120     80           1      False  \n",
       "4       60       50     65           1      False  "
      ]
     },
     "execution_count": 91,
     "metadata": {},
     "output_type": "execute_result"
    }
   ],
   "source": [
    "import pandas as pd\n",
    "Pokemon = pd.read_csv('pokemon.csv')\n",
    "Pokemon.head()"
   ]
  },
  {
   "cell_type": "markdown",
   "metadata": {},
   "source": [
    "1- Quantidade de Pokémon"
   ]
  },
  {
   "cell_type": "code",
   "execution_count": 92,
   "metadata": {},
   "outputs": [
    {
     "name": "stdout",
     "output_type": "stream",
     "text": [
      "Quantidade de pokemons no banco de dados: 800\n"
     ]
    }
   ],
   "source": [
    "quantidade_de_pokemons = Pokemon.shape[0]\n",
    "print(\"Quantidade de pokemons no banco de dados:\", quantidade_de_pokemons)"
   ]
  },
  {
   "cell_type": "markdown",
   "metadata": {},
   "source": [
    "2- Quantidade de Pokémon com 2 elementos"
   ]
  },
  {
   "cell_type": "code",
   "execution_count": 93,
   "metadata": {},
   "outputs": [
    {
     "name": "stdout",
     "output_type": "stream",
     "text": [
      "Quantidade de Pokémons com 2 elementos: 414\n"
     ]
    }
   ],
   "source": [
    "quantidade_pokemon_2_elementos = Pokemon[Pokemon['Type 2'].notnull()].shape[0]\n",
    "print(\"Quantidade de Pokémons com 2 elementos:\", quantidade_pokemon_2_elementos)"
   ]
  },
  {
   "cell_type": "markdown",
   "metadata": {},
   "source": [
    "3- Tabela com quantidade de elementos tipo 1."
   ]
  },
  {
   "cell_type": "code",
   "execution_count": 94,
   "metadata": {},
   "outputs": [
    {
     "name": "stdout",
     "output_type": "stream",
     "text": [
      "      Type 1  Quantidade\n",
      "17     Water         112\n",
      "12    Normal          98\n",
      "9      Grass          70\n",
      "0        Bug          69\n",
      "14   Psychic          57\n",
      "6       Fire          52\n",
      "3   Electric          44\n",
      "15      Rock          44\n",
      "8      Ghost          32\n",
      "10    Ground          32\n",
      "2     Dragon          32\n",
      "1       Dark          31\n",
      "13    Poison          28\n",
      "5   Fighting          27\n",
      "16     Steel          27\n",
      "11       Ice          24\n",
      "4      Fairy          17\n",
      "7     Flying           4\n"
     ]
    }
   ],
   "source": [
    "pokemon_1 = Pokemon.groupby('Type 1').size().reset_index(name='Quantidade')\n",
    "pokemon_1 = pokemon_1.sort_values(by='Quantidade', ascending=False)\n",
    "\n",
    "print(pokemon_1)"
   ]
  },
  {
   "cell_type": "markdown",
   "metadata": {},
   "source": [
    "4- Tabela com quantidade de elemntos tipo 2."
   ]
  },
  {
   "cell_type": "code",
   "execution_count": 95,
   "metadata": {},
   "outputs": [
    {
     "name": "stdout",
     "output_type": "stream",
     "text": [
      "      Type 2  Quantidade\n",
      "7     Flying          97\n",
      "10    Ground          35\n",
      "13    Poison          34\n",
      "14   Psychic          33\n",
      "5   Fighting          26\n",
      "9      Grass          25\n",
      "4      Fairy          23\n",
      "16     Steel          22\n",
      "1       Dark          20\n",
      "2     Dragon          18\n",
      "15      Rock          14\n",
      "17     Water          14\n",
      "11       Ice          14\n",
      "8      Ghost          14\n",
      "6       Fire          12\n",
      "3   Electric           6\n",
      "12    Normal           4\n",
      "0        Bug           3\n"
     ]
    }
   ],
   "source": [
    "pokemon_2 = Pokemon.groupby('Type 2').size().reset_index(name='Quantidade')\n",
    "pokemon_2 = pokemon_2.sort_values(by='Quantidade', ascending=False)\n",
    "\n",
    "print(pokemon_2)"
   ]
  },
  {
   "cell_type": "markdown",
   "metadata": {},
   "source": [
    "5- Pokémon mais forte e Pokémon mais fraco."
   ]
  },
  {
   "cell_type": "code",
   "execution_count": 96,
   "metadata": {},
   "outputs": [
    {
     "name": "stdout",
     "output_type": "stream",
     "text": [
      "Pokémon mais forte:\n",
      "#                             150\n",
      "Name          MewtwoMega Mewtwo X\n",
      "Type 1                    Psychic\n",
      "Type 2                   Fighting\n",
      "Total                         780\n",
      "HP                            106\n",
      "Attack                        190\n",
      "Defense                       100\n",
      "Sp. Atk                       154\n",
      "Sp. Def                       100\n",
      "Speed                         130\n",
      "Generation                      1\n",
      "Legendary                    True\n",
      "Name: 163, dtype: object\n",
      "\n",
      "Pokémon mais fraco:\n",
      "#                 191\n",
      "Name          Sunkern\n",
      "Type 1          Grass\n",
      "Type 2            NaN\n",
      "Total             180\n",
      "HP                 30\n",
      "Attack             30\n",
      "Defense            30\n",
      "Sp. Atk            30\n",
      "Sp. Def            30\n",
      "Speed              30\n",
      "Generation          2\n",
      "Legendary       False\n",
      "Name: 206, dtype: object\n"
     ]
    }
   ],
   "source": [
    "pokemon_mais_forte = Pokemon.loc[Pokemon['Total'].idxmax()]\n",
    "\n",
    "pokemon_mais_fraco = Pokemon.loc[Pokemon['Total'].idxmin()]\n",
    "\n",
    "print(\"Pokémon mais forte:\")\n",
    "print(pokemon_mais_forte)\n",
    "\n",
    "print(\"Pokémon mais fraco:\")\n",
    "print(pokemon_mais_fraco)"
   ]
  },
  {
   "cell_type": "markdown",
   "metadata": {},
   "source": [
    "6- Pokémon com maior e menor HP, attack e Defense."
   ]
  },
  {
   "cell_type": "code",
   "execution_count": 97,
   "metadata": {},
   "outputs": [
    {
     "name": "stdout",
     "output_type": "stream",
     "text": [
      "Pokémon com maior HP:\n",
      "#                 242\n",
      "Name          Blissey\n",
      "Type 1         Normal\n",
      "Type 2            NaN\n",
      "Total             540\n",
      "HP                255\n",
      "Attack             10\n",
      "Defense            10\n",
      "Sp. Atk            75\n",
      "Sp. Def           135\n",
      "Speed              55\n",
      "Generation          2\n",
      "Legendary       False\n",
      "Name: 261, dtype: object\n",
      "\n",
      "Pokémon com menor HP:\n",
      "#                  292\n",
      "Name          Shedinja\n",
      "Type 1             Bug\n",
      "Type 2           Ghost\n",
      "Total              236\n",
      "HP                   1\n",
      "Attack              90\n",
      "Defense             45\n",
      "Sp. Atk             30\n",
      "Sp. Def             30\n",
      "Speed               40\n",
      "Generation           3\n",
      "Legendary        False\n",
      "Name: 316, dtype: object\n",
      "Pokémon com maior Ataque:\n",
      "#                             150\n",
      "Name          MewtwoMega Mewtwo X\n",
      "Type 1                    Psychic\n",
      "Type 2                   Fighting\n",
      "Total                         780\n",
      "HP                            106\n",
      "Attack                        190\n",
      "Defense                       100\n",
      "Sp. Atk                       154\n",
      "Sp. Def                       100\n",
      "Speed                         130\n",
      "Generation                      1\n",
      "Legendary                    True\n",
      "Name: 163, dtype: object\n",
      "\n",
      "Pokémon com menor Ataque:\n",
      "#                 113\n",
      "Name          Chansey\n",
      "Type 1         Normal\n",
      "Type 2            NaN\n",
      "Total             450\n",
      "HP                250\n",
      "Attack              5\n",
      "Defense             5\n",
      "Sp. Atk            35\n",
      "Sp. Def           105\n",
      "Speed              50\n",
      "Generation          1\n",
      "Legendary       False\n",
      "Name: 121, dtype: object\n",
      "Pokémon com maior Defesa:\n",
      "#                             208\n",
      "Name          SteelixMega Steelix\n",
      "Type 1                      Steel\n",
      "Type 2                     Ground\n",
      "Total                         610\n",
      "HP                             75\n",
      "Attack                        125\n",
      "Defense                       230\n",
      "Sp. Atk                        55\n",
      "Sp. Def                        95\n",
      "Speed                          30\n",
      "Generation                      2\n",
      "Legendary                   False\n",
      "Name: 224, dtype: object\n",
      "\n",
      "Pokémon com menor Defesa:\n",
      "#                 113\n",
      "Name          Chansey\n",
      "Type 1         Normal\n",
      "Type 2            NaN\n",
      "Total             450\n",
      "HP                250\n",
      "Attack              5\n",
      "Defense             5\n",
      "Sp. Atk            35\n",
      "Sp. Def           105\n",
      "Speed              50\n",
      "Generation          1\n",
      "Legendary       False\n",
      "Name: 121, dtype: object\n"
     ]
    }
   ],
   "source": [
    "pokemon_maior_HP = Pokemon.loc[Pokemon['HP'].idxmax()]\n",
    "pokemon_menor_HP = Pokemon.loc[Pokemon['HP'].idxmin()]\n",
    "\n",
    "print(\"Pokémon com maior HP:\")\n",
    "print(pokemon_maior_HP)\n",
    "print(\"Pokémon com menor HP:\")\n",
    "print(pokemon_menor_HP)\n",
    "\n",
    "pokemon_maior_ataque = Pokemon.loc[Pokemon['Attack'].idxmax()]\n",
    "pokemon_menor_ataque = Pokemon.loc[Pokemon['Attack'].idxmin()]\n",
    "\n",
    "print(\"Pokémon com maior Ataque:\")\n",
    "print(pokemon_maior_ataque)\n",
    "print(\"Pokémon com menor Ataque:\")\n",
    "print(pokemon_menor_ataque)\n",
    "\n",
    "pokemon_maior_defesa = Pokemon.loc[Pokemon['Defense'].idxmax()]\n",
    "pokemon_menor_defesa = Pokemon.loc[Pokemon['Defense'].idxmin()]\n",
    "\n",
    "print(\"Pokémon com maior Defesa:\")\n",
    "print(pokemon_maior_defesa)\n",
    "print(\"Pokémon com menor Defesa:\")\n",
    "print(pokemon_menor_defesa)\n"
   ]
  },
  {
   "cell_type": "markdown",
   "metadata": {},
   "source": [
    "7 - Quantidade de Pokémons de cada geração."
   ]
  },
  {
   "cell_type": "code",
   "execution_count": 98,
   "metadata": {},
   "outputs": [
    {
     "name": "stdout",
     "output_type": "stream",
     "text": [
      "   Geração  Quantidade\n",
      "0        1         166\n",
      "1        5         165\n",
      "2        3         160\n",
      "3        4         121\n",
      "4        2         106\n",
      "5        6          82\n"
     ]
    }
   ],
   "source": [
    "quantidade_por_geracao = Pokemon['Generation'].value_counts().reset_index()\n",
    "quantidade_por_geracao.columns = ['Geração', 'Quantidade']\n",
    "\n",
    "print(quantidade_por_geracao)\n"
   ]
  },
  {
   "cell_type": "markdown",
   "metadata": {},
   "source": [
    "8 - Quantidade de Pokémons lendários."
   ]
  },
  {
   "cell_type": "code",
   "execution_count": 99,
   "metadata": {},
   "outputs": [
    {
     "name": "stdout",
     "output_type": "stream",
     "text": [
      "Quantidade de Pokémon lendários: 65\n"
     ]
    }
   ],
   "source": [
    "quantidade_lendarios = Pokemon['Legendary'].sum()\n",
    "print(\"Quantidade de Pokémon lendários:\", quantidade_lendarios)"
   ]
  }
 ],
 "metadata": {
  "kernelspec": {
   "display_name": "Python 3",
   "language": "python",
   "name": "python3"
  },
  "language_info": {
   "codemirror_mode": {
    "name": "ipython",
    "version": 3
   },
   "file_extension": ".py",
   "mimetype": "text/x-python",
   "name": "python",
   "nbconvert_exporter": "python",
   "pygments_lexer": "ipython3",
   "version": "3.11.8"
  }
 },
 "nbformat": 4,
 "nbformat_minor": 2
}
